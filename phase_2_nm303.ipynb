{
  "nbformat": 4,
  "nbformat_minor": 0,
  "metadata": {
    "colab": {
      "provenance": [],
      "authorship_tag": "ABX9TyM0JU//znRFV9Rb4T/Bntp4",
      "include_colab_link": true
    },
    "kernelspec": {
      "name": "python3",
      "display_name": "Python 3"
    },
    "language_info": {
      "name": "python"
    }
  },
  "cells": [
    {
      "cell_type": "markdown",
      "metadata": {
        "id": "view-in-github",
        "colab_type": "text"
      },
      "source": [
        "<a href=\"https://colab.research.google.com/github/Vignesh123k/CRACKING-THE-MARKET-CODE-WITH-AI-DRIVEN-/blob/main/phase_2_nm303.ipynb\" target=\"_parent\"><img src=\"https://colab.research.google.com/assets/colab-badge.svg\" alt=\"Open In Colab\"/></a>"
      ]
    },
    {
      "cell_type": "code",
      "execution_count": null,
      "metadata": {
        "id": "hgUTRpwJFyfh"
      },
      "outputs": [],
      "source": [
        "# Import libraries\n",
        "import pandas as pd\n",
        "import numpy as np\n",
        "import matplotlib.pyplot as plt\n",
        "import seaborn as sns\n",
        "from sklearn.preprocessing import MinMaxScaler\n",
        "\n",
        "# Load dataset (example: from a CSV or Yahoo Finance API)\n",
        "# df = pd.read_csv('AAPL.csv')  # Uncomment if reading from CSV\n",
        "# OR use yfinance API:\n",
        "import yfinance as yf\n",
        "df = yf.download('AAPL', start='2010-01-01', end='2025-01-01')\n",
        "\n",
        "# 1. Set 'Date' as index\n",
        "df.index = pd.to_datetime(df.index)\n",
        "\n",
        "# 2. Handle missing values\n",
        "df.fillna(method='ffill', inplace=True)\n",
        "\n",
        "# 3. Plot Closing Price\n",
        "df['Close'].plot(figsize=(12, 5), title=\"AAPL Closing Price Over Time\")\n",
        "plt.xlabel(\"Date\")\n",
        "plt.ylabel(\"Close Price (USD)\")\n",
        "plt.show()\n",
        "\n",
        "# 4. Feature Engineering\n",
        "df['Close_lag1'] = df['Close'].shift(1)\n",
        "df['MA_7'] = df['Close'].rolling(window=7).mean()\n",
        "df['MA_30'] = df['Close'].rolling(window=30).mean()\n",
        "df['STD_7'] = df['Close'].rolling(window=7).std()\n",
        "\n",
        "# Log returns\n",
        "df['Log_Returns'] = np.log(df['Close'] / df['Close'].shift(1))\n",
        "\n",
        "# Relative Strength Index (RSI)\n",
        "def compute_rsi(series, period=14):\n",
        "    delta = series.diff()\n",
        "    gain = (delta.where(delta > 0, 0)).rolling(window=period).mean()\n",
        "    loss = (-delta.where(delta < 0, 0)).rolling(window=period).mean()\n",
        "    RS = gain / loss\n",
        "    return 100 - (100 / (1 + RS))\n",
        "\n",
        "df['RSI'] = compute_rsi(df['Close'])\n",
        "\n",
        "# Drop rows with NaNs from rolling features\n",
        "df.dropna(inplace=True)\n",
        "\n",
        "# 5. Normalize Features for LSTM (only on relevant features)\n",
        "scaler = MinMaxScaler()\n",
        "scaled_data = scaler.fit_transform(df[['Close', 'Close_lag1', 'MA_7', 'MA_30', 'STD_7', 'RSI']])\n",
        "\n",
        "# Convert to DataFrame\n",
        "scaled_df = pd.DataFrame(scaled_data, index=df.index, columns=['Close', 'Close_lag1', 'MA_7', 'MA_30', 'STD_7', 'RSI'])\n",
        "\n",
        "# Final check\n",
        "print(scaled_df.head())\n"
      ]
    }
  ]
}